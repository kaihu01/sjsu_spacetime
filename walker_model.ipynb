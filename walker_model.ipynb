{
 "cells": [
  {
   "cell_type": "code",
   "execution_count": null,
   "metadata": {},
   "outputs": [],
   "source": [
    "# You have to import push_pop script\n",
    "\n",
    "#from push_pop import *\n",
    "%run push_pop.ipynb"
   ]
  },
  {
   "cell_type": "code",
   "execution_count": null,
   "metadata": {},
   "outputs": [],
   "source": [
    "import numpy as np\n",
    "import networkx as nx\n",
    "import matplotlib.pyplot as plt\n",
    "import random\n",
    "import math\n",
    "from numpy import genfromtxt"
   ]
  },
  {
   "cell_type": "code",
   "execution_count": null,
   "metadata": {},
   "outputs": [],
   "source": [
    "def E_walk(walker): # Calculate the walker hamiltonian\n",
    "    abs_walker = abs(walker)\n",
    "    return -1*sum(walker*abs_walker)"
   ]
  },
  {
   "cell_type": "code",
   "execution_count": null,
   "metadata": {},
   "outputs": [],
   "source": [
    "def Metropolis(G,H,walker,new_walker):\n",
    "    \n",
    "    E_diff = E_walk(new_walker) - E_walk(walker) # Calculate energy diff for Metropolis\n",
    "    \n",
    "    if E_diff <= 0.0000000001: # Tolerance to negate numeric error\n",
    "        walker = new_walker\n",
    "        G = H\n",
    "        \n",
    "    else:\n",
    "        Temp = 0.5\n",
    "        if random.random() < math.exp(-E_diff/Temp):\n",
    "            walker = new_walker\n",
    "            G = H\n",
    "        else:\n",
    "            pass\n",
    "        \n",
    "    return G, walker"
   ]
  },
  {
   "cell_type": "code",
   "execution_count": null,
   "metadata": {},
   "outputs": [],
   "source": [
    "def K(G,node): # Find curvature at particular node\n",
    "    return (6 - G.degree(node))"
   ]
  },
  {
   "cell_type": "code",
   "execution_count": null,
   "metadata": {},
   "outputs": [],
   "source": [
    "def draw(G):\n",
    "    plt.figure(figsize=(3,3))\n",
    "    nx.draw(G, pos=nx.spring_layout(G), node_color='lightgray', \\\n",
    "            edge_color='black', with_labels=True)\n",
    "    return"
   ]
  },
  {
   "cell_type": "code",
   "execution_count": null,
   "metadata": {},
   "outputs": [],
   "source": [
    "def rename_nodes(G): # rename all node in the graph starting from number zero\n",
    "    num = 0\n",
    "    G = nx.convert_node_labels_to_integers(H, first_label = num, ordering='default')\n",
    "    return G"
   ]
  },
  {
   "cell_type": "code",
   "execution_count": null,
   "metadata": {},
   "outputs": [],
   "source": [
    "def get_walker(G, walker, node, new_node):\n",
    "    \n",
    "    split = walker[node]//2\n",
    "    \n",
    "    walker[node] -= split # Split walker between the nodes\n",
    "    walker[new_node] += split\n",
    "    \n",
    "    for i in range(0, max( G.nodes() )+1 ): # Adding walker using the curvature at each node\n",
    "        walker[i] += K(G,i)\n",
    "    \n",
    "    if len(G) > 2:\n",
    "        listofnodes = [k for k in G] # Get a list of all nodes in the graph G\n",
    "        for i in range(12):\n",
    "            walker[random.choice(listofnodes)] -= 1 # Add twelve -1 walkers to random nodes in graph G\n",
    " \n",
    "    new_walker = np.zeros(len(walker)).astype(int)\n",
    "    \n",
    "    for i in G.nodes(): # loop through all node to move the walkers\n",
    "        \n",
    "        for j in range(0, int(abs(walker[i])) ): # All walker at node i gets to \"walk\"\n",
    "            \n",
    "            nbr = [n for n in G[i]] # Get list of neighbor for node i in G\n",
    "            k = random.choice(nbr)  # walker will move to neighbor k\n",
    "\n",
    "            if walker[i] > 0:  # move the walker depending on whether it's a +1 walker or -1\n",
    "                new_walker[k] += 1\n",
    "            if walker[i] < 0:\n",
    "                new_walker[k] -= 1\n",
    "            if walker[i] == 0:\n",
    "                continue\n",
    "\n",
    "    return new_walker # Make sure to pass this back, i.e. walker = get_walker(G,walker)"
   ]
  },
  {
   "cell_type": "code",
   "execution_count": null,
   "metadata": {},
   "outputs": [],
   "source": [
    "def reconfigure_walker(G, walker):\n",
    "    walker2 = np.zeros(len(walker)).astype(int)\n",
    "    \n",
    "    j = 0\n",
    "    for i in G.nodes(): # loop through all node, one should be missing since it \"popped\".\n",
    "        walker2[j] = walker[i] # read explanation below\n",
    "        j += 1\n",
    "\n",
    "    return walker2\n",
    "\n",
    "# index i will loop through 0,1,2,.... except for the missing node\n",
    "# index j will is just 0,1,2,3,....\n",
    "# let's say node 2 is gone cause it \"popped\", walker2[0] = walker[0], walker2[1] = walker[1],\n",
    "# then walker2[2] = walker[3], walker2[3] = walker[4], and so on.\n",
    "\n",
    "# After running this function, we can then run the \"rename_nodes()\" function to relabel the nodes 0,1,2,3...."
   ]
  },
  {
   "cell_type": "code",
   "execution_count": null,
   "metadata": {},
   "outputs": [],
   "source": []
  },
  {
   "cell_type": "code",
   "execution_count": null,
   "metadata": {},
   "outputs": [],
   "source": []
  },
  {
   "cell_type": "code",
   "execution_count": null,
   "metadata": {},
   "outputs": [],
   "source": []
  },
  {
   "cell_type": "code",
   "execution_count": null,
   "metadata": {},
   "outputs": [],
   "source": [
    "G = nx.octahedral_graph()\n",
    "\n",
    "s = 2**10\n",
    "\n",
    "walker = np.zeros(s).astype(int)\n",
    "\n",
    "for i in range(0,max(G.nodes())+1): # Adding walker using the curvature at each node\n",
    "    walker[i] += K(G,i)\n",
    "\n",
    "while len(G) < s:\n",
    "\n",
    "    H = G.copy()\n",
    "    new_walker = walker.copy()\n",
    "\n",
    "    node, new_node = push(H)\n",
    "\n",
    "    new_walker = get_walker(H, new_walker, node, new_node)\n",
    "\n",
    "    G, walker = Metropolis(G, H, walker, new_walker)\n",
    "\n",
    "    if G == H:\n",
    "        print(len(G))"
   ]
  },
  {
   "cell_type": "code",
   "execution_count": null,
   "metadata": {},
   "outputs": [],
   "source": [
    "a = get_adj(G)\n",
    "np.savetxt(\"adj.csv\", a.astype(int), fmt='%i', delimiter=\",\")"
   ]
  },
  {
   "cell_type": "code",
   "execution_count": null,
   "metadata": {},
   "outputs": [],
   "source": [
    "# Equilibration / Thermalizing\n",
    "\n",
    "for i in range(0,12*s):\n",
    "    \n",
    "    H = G.copy()\n",
    "    pop(H)\n",
    "    walker = reconfigure_walker(H, walker)\n",
    "    H = rename_nodes(H)\n",
    "    \n",
    "    push(H)\n",
    "    new_walker = walker.copy()\n",
    "    new_walker = get_walker(H, new_walker, node, new_node)\n",
    "    \n",
    "    G, walker = Metropolis(G, H, walker, new_walker)"
   ]
  }
 ],
 "metadata": {
  "kernelspec": {
   "display_name": "Python 3",
   "language": "python",
   "name": "python3"
  },
  "language_info": {
   "codemirror_mode": {
    "name": "ipython",
    "version": 3
   },
   "file_extension": ".py",
   "mimetype": "text/x-python",
   "name": "python",
   "nbconvert_exporter": "python",
   "pygments_lexer": "ipython3",
   "version": "3.6.9"
  }
 },
 "nbformat": 4,
 "nbformat_minor": 2
}
